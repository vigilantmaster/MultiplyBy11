{
  "nbformat": 4,
  "nbformat_minor": 0,
  "metadata": {
    "colab": {
      "provenance": [],
      "authorship_tag": "ABX9TyOP7YPWrLGr3uPmb7vbUeFo",
      "include_colab_link": true
    },
    "kernelspec": {
      "name": "python3",
      "display_name": "Python 3"
    },
    "language_info": {
      "name": "python"
    }
  },
  "cells": [
    {
      "cell_type": "markdown",
      "metadata": {
        "id": "view-in-github",
        "colab_type": "text"
      },
      "source": [
        "<a href=\"https://colab.research.google.com/github/vigilantmaster/MultiplyBy11/blob/main/Multiplyby11.ipynb\" target=\"_parent\"><img src=\"https://colab.research.google.com/assets/colab-badge.svg\" alt=\"Open In Colab\"/></a>"
      ]
    },
    {
      "cell_type": "code",
      "source": [
        "# prompt: tokenize each digit into an integer from user input\n",
        "\n",
        "import nltk\n",
        "from nltk.tokenize import word_tokenize\n",
        "\n",
        "user_input = input(\"Enter digit to multiply by 11: \")\n",
        "carryOver = False\n",
        "workingInteger = 0\n",
        "output = \"\"\n",
        "\n",
        "\n",
        "# Tokenize each digit into an integer\n",
        "integer_tokens = []\n",
        "if user_input.isdigit():\n",
        "  print(\"Multiplying 11 with\", user_input)\n",
        "  for char in user_input:\n",
        "    integer_tokens.append(int(char))\n",
        "else:\n",
        "  print(\"Input is not a digit\")\n",
        "  exit()\n",
        "\n",
        "\n",
        "print(\"Integer Tokens:\", integer_tokens)\n",
        "for index in range(len(integer_tokens)):\n",
        "  workingInteger = integer_tokens[index]\n",
        "  if index == 0:\n",
        "    output += str(workingInteger)\n",
        "    print(\"First Digit: \", output)\n",
        "    continue\n",
        "  workingInteger += integer_tokens[index-1]\n",
        "  if carryOver:\n",
        "    output[len(output)-1] = str(int(output[len(output)-1]) + 1)\n",
        "    carryOver = False\n",
        "  if workingInteger >= 10:\n",
        "    workingInteger -= 10\n",
        "    carryOver = True\n",
        "  output += str(workingInteger)\n",
        "  print(\"Adding:\", integer_tokens[index-1], \"and\", integer_tokens[index], \"CarryOver:\", carryOver , \"Current Output: \", output)\n",
        "\n",
        "output += str(integer_tokens[len(integer_tokens)-1])\n",
        "print(\"Output:\", output)"
      ],
      "metadata": {
        "id": "4iLPuMMUXM6g",
        "colab": {
          "base_uri": "https://localhost:8080/",
          "height": 297
        },
        "outputId": "f5658e4f-41b4-46f0-fafd-72c1a16c035f"
      },
      "execution_count": 22,
      "outputs": [
        {
          "output_type": "stream",
          "name": "stdout",
          "text": [
            "Enter digit to multiply by 11: 789\n",
            "Multiplying 11 with 789\n",
            "Integer Tokens: [7, 8, 9]\n",
            "First Digit:  7\n",
            "Adding: 7 and 8 CarryOver: True Current Output:  75\n"
          ]
        },
        {
          "output_type": "error",
          "ename": "TypeError",
          "evalue": "'str' object does not support item assignment",
          "traceback": [
            "\u001b[0;31m---------------------------------------------------------------------------\u001b[0m",
            "\u001b[0;31mTypeError\u001b[0m                                 Traceback (most recent call last)",
            "\u001b[0;32m<ipython-input-22-e88fb17b7055>\u001b[0m in \u001b[0;36m<cell line: 24>\u001b[0;34m()\u001b[0m\n\u001b[1;32m     30\u001b[0m   \u001b[0mworkingInteger\u001b[0m \u001b[0;34m+=\u001b[0m \u001b[0minteger_tokens\u001b[0m\u001b[0;34m[\u001b[0m\u001b[0mindex\u001b[0m\u001b[0;34m-\u001b[0m\u001b[0;36m1\u001b[0m\u001b[0;34m]\u001b[0m\u001b[0;34m\u001b[0m\u001b[0;34m\u001b[0m\u001b[0m\n\u001b[1;32m     31\u001b[0m   \u001b[0;32mif\u001b[0m \u001b[0mcarryOver\u001b[0m\u001b[0;34m:\u001b[0m\u001b[0;34m\u001b[0m\u001b[0;34m\u001b[0m\u001b[0m\n\u001b[0;32m---> 32\u001b[0;31m     \u001b[0moutput\u001b[0m\u001b[0;34m[\u001b[0m\u001b[0mlen\u001b[0m\u001b[0;34m(\u001b[0m\u001b[0moutput\u001b[0m\u001b[0;34m)\u001b[0m\u001b[0;34m-\u001b[0m\u001b[0;36m1\u001b[0m\u001b[0;34m]\u001b[0m \u001b[0;34m=\u001b[0m \u001b[0mstr\u001b[0m\u001b[0;34m(\u001b[0m\u001b[0mint\u001b[0m\u001b[0;34m(\u001b[0m\u001b[0moutput\u001b[0m\u001b[0;34m[\u001b[0m\u001b[0mlen\u001b[0m\u001b[0;34m(\u001b[0m\u001b[0moutput\u001b[0m\u001b[0;34m)\u001b[0m\u001b[0;34m-\u001b[0m\u001b[0;36m1\u001b[0m\u001b[0;34m]\u001b[0m\u001b[0;34m)\u001b[0m \u001b[0;34m+\u001b[0m \u001b[0;36m1\u001b[0m\u001b[0;34m)\u001b[0m\u001b[0;34m\u001b[0m\u001b[0;34m\u001b[0m\u001b[0m\n\u001b[0m\u001b[1;32m     33\u001b[0m     \u001b[0mcarryOver\u001b[0m \u001b[0;34m=\u001b[0m \u001b[0;32mFalse\u001b[0m\u001b[0;34m\u001b[0m\u001b[0;34m\u001b[0m\u001b[0m\n\u001b[1;32m     34\u001b[0m   \u001b[0;32mif\u001b[0m \u001b[0mworkingInteger\u001b[0m \u001b[0;34m>=\u001b[0m \u001b[0;36m10\u001b[0m\u001b[0;34m:\u001b[0m\u001b[0;34m\u001b[0m\u001b[0;34m\u001b[0m\u001b[0m\n",
            "\u001b[0;31mTypeError\u001b[0m: 'str' object does not support item assignment"
          ]
        }
      ]
    },
    {
      "cell_type": "code",
      "source": [
        "# prompt: tokenize each digit into an integer from user input\n",
        "\n",
        "import nltk\n",
        "from nltk.tokenize import word_tokenize\n",
        "\n",
        "user_input = input(\"Enter digit to multiply by 11: \")\n",
        "carryOver = False\n",
        "workingInteger = 0\n",
        "output = []  # Change output to a list\n",
        "\n",
        "\n",
        "# Tokenize each digit into an integer\n",
        "integer_tokens = []\n",
        "if user_input.isdigit():\n",
        "  print(\"Multiplying 11 with\", user_input)\n",
        "  for char in user_input:\n",
        "    integer_tokens.append(int(char))\n",
        "else:\n",
        "  print(\"Input is not a digit\")\n",
        "  exit()\n",
        "\n",
        "\n",
        "print(\"Integer Tokens:\", integer_tokens)\n",
        "for index in range(len(integer_tokens)):\n",
        "  workingInteger = integer_tokens[index]\n",
        "  if index == 0:\n",
        "    output.append(str(workingInteger)) # Append to list\n",
        "    print(\"First Digit: \", \"\".join(output)) # Join list for printing\n",
        "    continue\n",
        "  workingInteger += integer_tokens[index-1]\n",
        "  if workingInteger >= 10:\n",
        "    workingInteger -= 10\n",
        "    carryOver = True\n",
        "    output[index-1] = str(int(output[-1]) + 1) # Modify list element\n",
        "  output.append(str(workingInteger))  # Append to list\n",
        "  print(\"Adding:\", integer_tokens[index-1], \"and\", integer_tokens[index], \"CarryOver:\", carryOver , \"Current Output: \", \"\".join(output)) # Join list for printing\n",
        "  carryOver = False\n",
        "output.append(str(integer_tokens[len(integer_tokens)-1])) # Append to list\n",
        "print(\"Output:\", \"\".join(output)) # Join list for final output"
      ],
      "metadata": {
        "colab": {
          "base_uri": "https://localhost:8080/"
        },
        "id": "WZlxsyafxY4B",
        "outputId": "ac213df4-f08d-4169-c1a5-107ce23a00f8"
      },
      "execution_count": 27,
      "outputs": [
        {
          "output_type": "stream",
          "name": "stdout",
          "text": [
            "Enter digit to multiply by 11: 789\n",
            "Multiplying 11 with 789\n",
            "Integer Tokens: [7, 8, 9]\n",
            "First Digit:  7\n",
            "Adding: 7 and 8 CarryOver: False Current Output:  85\n",
            "Adding: 8 and 9 CarryOver: False Current Output:  867\n",
            "Output: 8679\n"
          ]
        }
      ]
    }
  ]
}